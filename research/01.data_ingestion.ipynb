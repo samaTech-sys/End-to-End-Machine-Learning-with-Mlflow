{
 "cells": [
  {
   "cell_type": "code",
   "execution_count": 4,
   "id": "814da730",
   "metadata": {},
   "outputs": [],
   "source": [
    "import os"
   ]
  },
  {
   "cell_type": "code",
   "execution_count": 5,
   "id": "3e569698",
   "metadata": {},
   "outputs": [],
   "source": [
    "os.chdir(r\"C:\\Users\\USER\\Desktop\\MLDefaults\\End-to-End-Machine-Learning-with-Mlflow\")"
   ]
  },
  {
   "cell_type": "code",
   "execution_count": null,
   "id": "39a0ec85",
   "metadata": {},
   "outputs": [],
   "source": [
    "from dataclasses import dataclass\n",
    "from pathlib import Path\n",
    "\n",
    "@dataclass(frozen=True)\n",
    "class DataIngestionConfig:\n",
    "    root_dir: Path\n",
    "    source_url: str\n",
    "    local_data_file: Path \n",
    "    unzip_dir: Path   "
   ]
  },
  {
   "cell_type": "code",
   "execution_count": 52,
   "id": "f7ad5d14",
   "metadata": {},
   "outputs": [],
   "source": [
    "#importing all project paths from the constants file common action functions\n",
    "from mlProject.constants import  *\n",
    "from mlProject.utils.common import read_yaml, create_directories\n"
   ]
  },
  {
   "cell_type": "code",
   "execution_count": 53,
   "id": "9b685fb8",
   "metadata": {},
   "outputs": [],
   "source": [
    "#Updating the configuration file \n",
    "class ConfigurationManager:\n",
    "    def __init__(\n",
    "        self, \n",
    "        config_filepath = CONFIG_FILE_PATH, \n",
    "        params_filepath = PARAMS_FILE_PATH,\n",
    "        schema_filepath = SCHEMA_FILE_PATH):\n",
    "\n",
    "        self.config = read_yaml(config_filepath)\n",
    "        self.params = read_yaml(params_filepath)\n",
    "        self.schema = read_yaml(schema_filepath)\n",
    "       \n",
    "        create_directories([self.config.artifacts_root])\n",
    "    \n",
    "    def get_data_ingestion_config(self) -> DataIngestionConfig:\n",
    "        config = self.config.data_ingestion\n",
    "        create_directories([config.root_dir])\n",
    "        \n",
    "        data_ingestion_config = DataIngestionConfig(\n",
    "            root_dir=config.root_dir,\n",
    "            source_url=config.source_url,\n",
    "            local_data_file=config.local_data_file, \n",
    "            unzip_dir=config.unzip_dir\n",
    "        )\n",
    "        return data_ingestion_config"
   ]
  },
  {
   "cell_type": "code",
   "execution_count": 54,
   "id": "12379cf9",
   "metadata": {},
   "outputs": [],
   "source": [
    "import os\n",
    "from urllib import request\n",
    "import zipfile\n",
    "from mlProject import logger\n",
    "from mlProject.utils.common import get_size\n"
   ]
  },
  {
   "cell_type": "code",
   "execution_count": 55,
   "id": "cf30eab2",
   "metadata": {},
   "outputs": [],
   "source": [
    "#Unpdate Components step\n",
    "class DataIngestion:\n",
    "    def __init__(self, config:DataIngestionConfig):\n",
    "        self.config = config\n",
    "        \n",
    "    def download_file(self):\n",
    "        if not os.path.exists(self.config.local_data_file):\n",
    "            filename, headers = request.urlretrieve(\n",
    "                url=self.config.source_url, \n",
    "                filename = self.config.local_data_file\n",
    "            )\n",
    "            logger.info(f\"{filename} download! with the folloeing info: n\\{headers}\")\n",
    "        else: \n",
    "            logger.info(f\"File already exists: {get_size(Path(self.config.local_data_file))}\")\n",
    "        print(\"Downloding\", self.config.source_url)\n",
    "            \n",
    "    def extract_zip_file(self):\n",
    "        \"\"\"\n",
    "        zip_file_path: str\n",
    "        Extracts zip file into directory \n",
    "        Function returne none\n",
    "        \n",
    "        \"\"\"\n",
    "        \n",
    "        unzip_path = self.config.unzip_dir\n",
    "        # Print the actual path of the local data file and unzip directory\n",
    "        print(f\"Extracting file from: {self.config.local_data_file}\")\n",
    "        print(f\"Unzip path: {unzip_path}\")\n",
    "\n",
    "        os.makedirs(unzip_path, exist_ok=True)\n",
    "        with zipfile.ZipFile(self.config.local_data_file, \"r\") as zip_ref:\n",
    "            zip_ref.extractall(unzip_path)\n",
    "            "
   ]
  },
  {
   "cell_type": "code",
   "execution_count": null,
   "id": "02406822",
   "metadata": {},
   "outputs": [
    {
     "name": "stdout",
     "output_type": "stream",
     "text": [
      "[2025-05-12 15:18:30,739: INFO: common: yaml file: C:\\Users\\USER\\Desktop\\MLDefaults\\End-to-End-Machine-Learning-with-Mlflow\\config\\config.yaml loaded successfully]\n",
      "[2025-05-12 15:18:30,749: INFO: common: yaml file: C:\\Users\\USER\\Desktop\\MLDefaults\\End-to-End-Machine-Learning-with-Mlflow\\params.yaml loaded successfully]\n",
      "[2025-05-12 15:18:30,760: INFO: common: yaml file: C:\\Users\\USER\\Desktop\\MLDefaults\\End-to-End-Machine-Learning-with-Mlflow\\schema.yaml loaded successfully]\n",
      "[2025-05-12 15:18:30,791: INFO: common: created directory at:artifacts]\n",
      "[2025-05-12 15:18:30,800: INFO: common: created directory at:artifacts/data_ingestion]\n",
      "[2025-05-12 15:18:53,287: INFO: 292618914: artifacts/data_ingestion/data.zip download! with the folloeing info: n\\Connection: close\n",
      "Content-Length: 23329\n",
      "Cache-Control: max-age=300\n",
      "Content-Security-Policy: default-src 'none'; style-src 'unsafe-inline'; sandbox\n",
      "Content-Type: application/zip\n",
      "ETag: \"f943289375ca45b203667b505669e50a7b8f602ce2ea7016ec535fe1f3aa7bcf\"\n",
      "Strict-Transport-Security: max-age=31536000\n",
      "X-Content-Type-Options: nosniff\n",
      "X-Frame-Options: deny\n",
      "X-XSS-Protection: 1; mode=block\n",
      "X-GitHub-Request-Id: F7DC:10C370:4FEBA:156547:6821BCFD\n",
      "Accept-Ranges: bytes\n",
      "Date: Mon, 12 May 2025 09:18:53 GMT\n",
      "Via: 1.1 varnish\n",
      "X-Served-By: cache-cpt13825-CPT\n",
      "X-Cache: MISS\n",
      "X-Cache-Hits: 0\n",
      "X-Timer: S1747041533.301010,VS0,VE301\n",
      "Vary: Authorization,Accept-Encoding,Origin\n",
      "Access-Control-Allow-Origin: *\n",
      "Cross-Origin-Resource-Policy: cross-origin\n",
      "X-Fastly-Request-ID: b182376bc9d4a0d051b3e213ce7355c5c6e14a09\n",
      "Expires: Mon, 12 May 2025 09:23:53 GMT\n",
      "Source-Age: 0\n",
      "\n",
      "]\n",
      "Downloding https://github.com/samaTech-sys/End-to-End-Machine-Learning-with-Mlflow/raw/main/winequality-red.zip\n",
      "Extracting file from: artifacts/data_ingestion/data.zip\n",
      "Unzip path: artifacts/data_ingestion\n"
     ]
    }
   ],
   "source": [
    "#Update pipeline Step \n",
    "try: \n",
    "    config = ConfigurationManager()\n",
    "    data_ingestion_config =config.get_data_ingestion_config()\n",
    "    data_ingestion = DataIngestion(config=data_ingestion_config)\n",
    "    data_ingestion.download_file()\n",
    "    data_ingestion.extract_zip_file()\n",
    "except Exception as e:\n",
    "    raise e"
   ]
  }
 ],
 "metadata": {
  "kernelspec": {
   "display_name": "mlflow",
   "language": "python",
   "name": "python3"
  },
  "language_info": {
   "codemirror_mode": {
    "name": "ipython",
    "version": 3
   },
   "file_extension": ".py",
   "mimetype": "text/x-python",
   "name": "python",
   "nbconvert_exporter": "python",
   "pygments_lexer": "ipython3",
   "version": "3.10.16"
  }
 },
 "nbformat": 4,
 "nbformat_minor": 5
}
