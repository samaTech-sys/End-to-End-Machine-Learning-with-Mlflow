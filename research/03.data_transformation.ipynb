{
 "cells": [
  {
   "cell_type": "code",
   "execution_count": 1,
   "id": "51631404",
   "metadata": {},
   "outputs": [],
   "source": [
    "#Acess the project directory\n",
    "import os\n",
    "os.chdir(r\"C:\\Users\\USER\\Desktop\\MLDefaults\\End-to-End-Machine-Learning-with-Mlflow\")"
   ]
  },
  {
   "cell_type": "code",
   "execution_count": 2,
   "metadata": {},
   "outputs": [],
   "source": [
    "from dataclasses import dataclass\n",
    "from pathlib import Path\n",
    "\n",
    "@dataclass(frozen=True)\n",
    "class DataTransformationConfig:\n",
    "    root_dir: Path\n",
    "    data_path: Path"
   ]
  },
  {
   "cell_type": "code",
   "execution_count": 3,
   "id": "4bc4b50c",
   "metadata": {},
   "outputs": [],
   "source": [
    "#importing all project paths and modules necessary for project configurations \n",
    "from mlProject.constants import  *\n",
    "from mlProject.utils.common import read_yaml, create_directories"
   ]
  },
  {
   "cell_type": "code",
   "execution_count": 4,
   "id": "08870127",
   "metadata": {},
   "outputs": [],
   "source": [
    "#Updating the configuration file \n",
    "class ConfigurationManager:\n",
    "    def __init__(\n",
    "        self, \n",
    "        config_filepath = CONFIG_FILE_PATH, \n",
    "        params_filepath = PARAMS_FILE_PATH,\n",
    "        schema_filepath = SCHEMA_FILE_PATH):\n",
    "\n",
    "        self.config = read_yaml(config_filepath)\n",
    "        self.params = read_yaml(params_filepath)\n",
    "        self.schema = read_yaml(schema_filepath)\n",
    "       \n",
    "        create_directories([self.config.artifacts_root])\n",
    "    \n",
    "    def get_data_transformation_config(self) -> DataTransformationConfig:\n",
    "        config = self.config.data_transformation \n",
    "        \n",
    "        create_directories([config.root_dir])\n",
    "        \n",
    "        data_transformation_config = DataTransformationConfig(\n",
    "            root_dir=config.root_dir,\n",
    "            data_path=config.data_path\n",
    "        )\n",
    "        return data_transformation_config"
   ]
  },
  {
   "cell_type": "code",
   "execution_count": 5,
   "id": "bac49604",
   "metadata": {},
   "outputs": [],
   "source": [
    "import os \n",
    "import pandas as pd \n",
    "from mlProject import logger\n",
    "from sklearn.model_selection import train_test_split"
   ]
  },
  {
   "cell_type": "code",
   "execution_count": 6,
   "id": "dd06caab",
   "metadata": {},
   "outputs": [],
   "source": [
    "class DataTransformation: \n",
    "    def __init__(self, config: DataTransformationConfig):\n",
    "        self.config = config\n",
    "        #You can add all the different transformation techniques needed before spliting the data. \n",
    "        \n",
    "    def train_test_spliting(self):\n",
    "        data = pd.read_csv(self.config.data_path)\n",
    "    #SPlit the data into training and test datasets \n",
    "        train, test = train_test_split(data)\n",
    "        train.to_csv(os.path.join(self.config.root_dir, \"train.csv\"), index=False)\n",
    "        test.to_csv(os.path.join(self.config.root_dir, \"test.csv\"), index=False)\n",
    "        \n",
    "        logger.info(\"Splitted data into train and test sets\")\n",
    "        logger.info(train.shape)\n",
    "        logger.info(test.shape)           "
   ]
  },
  {
   "cell_type": "code",
   "execution_count": 7,
   "id": "f9f9d341",
   "metadata": {},
   "outputs": [
    {
     "name": "stdout",
     "output_type": "stream",
     "text": [
      "[2025-05-13 14:16:36,499: INFO: common: yaml file: C:\\Users\\USER\\Desktop\\MLDefaults\\End-to-End-Machine-Learning-with-Mlflow\\config\\config.yaml loaded successfully]\n",
      "[2025-05-13 14:16:36,506: INFO: common: yaml file: C:\\Users\\USER\\Desktop\\MLDefaults\\End-to-End-Machine-Learning-with-Mlflow\\params.yaml loaded successfully]\n",
      "[2025-05-13 14:16:36,506: INFO: common: yaml file: C:\\Users\\USER\\Desktop\\MLDefaults\\End-to-End-Machine-Learning-with-Mlflow\\schema.yaml loaded successfully]\n",
      "[2025-05-13 14:16:36,521: INFO: common: created directory at:artifacts]\n",
      "[2025-05-13 14:16:36,521: INFO: common: created directory at:artifacts/data_transformation]\n",
      "[2025-05-13 14:16:36,628: INFO: 1990784847: Splitted data into train and test sets]\n",
      "[2025-05-13 14:16:36,628: INFO: 1990784847: (1199, 12)]\n",
      "[2025-05-13 14:16:36,628: INFO: 1990784847: (400, 12)]\n"
     ]
    }
   ],
   "source": [
    "try:\n",
    "    config = ConfigurationManager()\n",
    "    data_transformation_config =config.get_data_transformation_config()\n",
    "    data_transformation = DataTransformation(config=data_transformation_config)\n",
    "    data_transformation.train_test_spliting()\n",
    "except Exception as e:\n",
    "    raise e"
   ]
  }
 ],
 "metadata": {
  "kernelspec": {
   "display_name": "mlflow_env",
   "language": "python",
   "name": "python3"
  },
  "language_info": {
   "codemirror_mode": {
    "name": "ipython",
    "version": 3
   },
   "file_extension": ".py",
   "mimetype": "text/x-python",
   "name": "python",
   "nbconvert_exporter": "python",
   "pygments_lexer": "ipython3",
   "version": "3.10.16"
  }
 },
 "nbformat": 4,
 "nbformat_minor": 5
}
