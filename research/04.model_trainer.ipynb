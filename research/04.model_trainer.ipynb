{
 "cells": [
  {
   "cell_type": "code",
   "execution_count": null,
   "id": "eeadad4e",
   "metadata": {},
   "outputs": [],
   "source": [
    "#Acess the project directory\n",
    "import os\n",
    "os.chdir(r\"C:\\Users\\USER\\Desktop\\MLDefaults\\End-to-End-Machine-Learning-with-Mlflow\")"
   ]
  }
 ],
 "metadata": {
  "kernelspec": {
   "display_name": "mlflow",
   "language": "python",
   "name": "python3"
  },
  "language_info": {
   "name": "python",
   "version": "3.10.16"
  }
 },
 "nbformat": 4,
 "nbformat_minor": 5
}
